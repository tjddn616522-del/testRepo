{
 "cells": [
  {
   "cell_type": "code",
   "execution_count": 1,
   "id": "809c87ce",
   "metadata": {},
   "outputs": [
    {
     "name": "stdout",
     "output_type": "stream",
     "text": [
      "HELLO World\n"
     ]
    }
   ],
   "source": [
    "print(\"HELLO World\")"
   ]
  },
  {
   "cell_type": "code",
   "execution_count": 2,
   "id": "97e6dcfc",
   "metadata": {},
   "outputs": [
    {
     "name": "stdout",
     "output_type": "stream",
     "text": [
      "안녕\n"
     ]
    }
   ],
   "source": [
    "print(\"안녕\")"
   ]
  },
  {
   "cell_type": "markdown",
   "id": "9e6d97c2",
   "metadata": {},
   "source": [
    "## 2025-09-18"
   ]
  },
  {
   "cell_type": "markdown",
   "id": "501f230d",
   "metadata": {},
   "source": [
    "### 나의 처음 코딩"
   ]
  },
  {
   "cell_type": "markdown",
   "id": "03a30a0a",
   "metadata": {},
   "source": []
  }
 ],
 "metadata": {
  "kernelspec": {
   "display_name": "Python 3",
   "language": "python",
   "name": "python3"
  },
  "language_info": {
   "codemirror_mode": {
    "name": "ipython",
    "version": 3
   },
   "file_extension": ".py",
   "mimetype": "text/x-python",
   "name": "python",
   "nbconvert_exporter": "python",
   "pygments_lexer": "ipython3",
   "version": "3.12.1"
  }
 },
 "nbformat": 4,
 "nbformat_minor": 5
}
